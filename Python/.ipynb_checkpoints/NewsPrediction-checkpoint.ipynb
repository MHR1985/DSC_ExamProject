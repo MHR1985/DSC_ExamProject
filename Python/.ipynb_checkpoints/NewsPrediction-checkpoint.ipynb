{
 "cells": [
  {
   "cell_type": "code",
   "execution_count": 1,
   "metadata": {},
   "outputs": [
    {
     "name": "stdout",
     "output_type": "stream",
     "text": [
      "Requirement already satisfied: pandas in c:\\users\\maste\\appdata\\local\\programs\\python\\python39\\lib\\site-packages (1.2.4)\n",
      "Requirement already satisfied: numpy>=1.16.5 in c:\\users\\maste\\appdata\\local\\programs\\python\\python39\\lib\\site-packages (from pandas) (1.20.2)\n",
      "Requirement already satisfied: pytz>=2017.3 in c:\\users\\maste\\appdata\\local\\programs\\python\\python39\\lib\\site-packages (from pandas) (2021.1)\n",
      "Requirement already satisfied: python-dateutil>=2.7.3 in c:\\users\\maste\\appdata\\local\\programs\\python\\python39\\lib\\site-packages (from pandas) (2.8.1)\n",
      "Requirement already satisfied: six>=1.5 in c:\\users\\maste\\appdata\\local\\programs\\python\\python39\\lib\\site-packages (from python-dateutil>=2.7.3->pandas) (1.15.0)\n",
      "Requirement already satisfied: numpy in c:\\users\\maste\\appdata\\local\\programs\\python\\python39\\lib\\site-packages (1.20.2)\n",
      "Requirement already satisfied: sklearn in c:\\users\\maste\\appdata\\local\\programs\\python\\python39\\lib\\site-packages (0.0)\n",
      "Requirement already satisfied: scikit-learn in c:\\users\\maste\\appdata\\local\\programs\\python\\python39\\lib\\site-packages (from sklearn) (0.24.2)\n",
      "Requirement already satisfied: threadpoolctl>=2.0.0 in c:\\users\\maste\\appdata\\local\\programs\\python\\python39\\lib\\site-packages (from scikit-learn->sklearn) (2.1.0)\n",
      "Requirement already satisfied: joblib>=0.11 in c:\\users\\maste\\appdata\\local\\programs\\python\\python39\\lib\\site-packages (from scikit-learn->sklearn) (1.0.1)\n",
      "Requirement already satisfied: scipy>=0.19.1 in c:\\users\\maste\\appdata\\local\\programs\\python\\python39\\lib\\site-packages (from scikit-learn->sklearn) (1.6.3)\n",
      "Requirement already satisfied: numpy>=1.13.3 in c:\\users\\maste\\appdata\\local\\programs\\python\\python39\\lib\\site-packages (from scikit-learn->sklearn) (1.20.2)\n",
      "Requirement already satisfied: matplotlib in c:\\users\\maste\\appdata\\local\\programs\\python\\python39\\lib\\site-packages (3.4.1)\n",
      "Requirement already satisfied: numpy>=1.16 in c:\\users\\maste\\appdata\\local\\programs\\python\\python39\\lib\\site-packages (from matplotlib) (1.20.2)\n",
      "Requirement already satisfied: cycler>=0.10 in c:\\users\\maste\\appdata\\local\\programs\\python\\python39\\lib\\site-packages (from matplotlib) (0.10.0)\n",
      "Requirement already satisfied: pillow>=6.2.0 in c:\\users\\maste\\appdata\\local\\programs\\python\\python39\\lib\\site-packages (from matplotlib) (8.2.0)\n",
      "Requirement already satisfied: python-dateutil>=2.7 in c:\\users\\maste\\appdata\\local\\programs\\python\\python39\\lib\\site-packages (from matplotlib) (2.8.1)\n",
      "Requirement already satisfied: pyparsing>=2.2.1 in c:\\users\\maste\\appdata\\local\\programs\\python\\python39\\lib\\site-packages (from matplotlib) (2.4.7)\n",
      "Requirement already satisfied: kiwisolver>=1.0.1 in c:\\users\\maste\\appdata\\local\\programs\\python\\python39\\lib\\site-packages (from matplotlib) (1.3.1)\n",
      "Requirement already satisfied: six in c:\\users\\maste\\appdata\\local\\programs\\python\\python39\\lib\\site-packages (from cycler>=0.10->matplotlib) (1.15.0)\n",
      "Requirement already satisfied: seaborn in c:\\users\\maste\\appdata\\local\\programs\\python\\python39\\lib\\site-packages (0.11.1)\n",
      "Requirement already satisfied: scipy>=1.0 in c:\\users\\maste\\appdata\\local\\programs\\python\\python39\\lib\\site-packages (from seaborn) (1.6.3)\n",
      "Requirement already satisfied: pandas>=0.23 in c:\\users\\maste\\appdata\\local\\programs\\python\\python39\\lib\\site-packages (from seaborn) (1.2.4)\n",
      "Requirement already satisfied: numpy>=1.15 in c:\\users\\maste\\appdata\\local\\programs\\python\\python39\\lib\\site-packages (from seaborn) (1.20.2)\n",
      "Requirement already satisfied: matplotlib>=2.2 in c:\\users\\maste\\appdata\\local\\programs\\python\\python39\\lib\\site-packages (from seaborn) (3.4.1)\n",
      "Requirement already satisfied: cycler>=0.10 in c:\\users\\maste\\appdata\\local\\programs\\python\\python39\\lib\\site-packages (from matplotlib>=2.2->seaborn) (0.10.0)\n",
      "Requirement already satisfied: pyparsing>=2.2.1 in c:\\users\\maste\\appdata\\local\\programs\\python\\python39\\lib\\site-packages (from matplotlib>=2.2->seaborn) (2.4.7)\n",
      "Requirement already satisfied: kiwisolver>=1.0.1 in c:\\users\\maste\\appdata\\local\\programs\\python\\python39\\lib\\site-packages (from matplotlib>=2.2->seaborn) (1.3.1)\n",
      "Requirement already satisfied: pillow>=6.2.0 in c:\\users\\maste\\appdata\\local\\programs\\python\\python39\\lib\\site-packages (from matplotlib>=2.2->seaborn) (8.2.0)\n",
      "Requirement already satisfied: python-dateutil>=2.7 in c:\\users\\maste\\appdata\\local\\programs\\python\\python39\\lib\\site-packages (from matplotlib>=2.2->seaborn) (2.8.1)\n",
      "Requirement already satisfied: six in c:\\users\\maste\\appdata\\local\\programs\\python\\python39\\lib\\site-packages (from cycler>=0.10->matplotlib>=2.2->seaborn) (1.15.0)\n",
      "Requirement already satisfied: pytz>=2017.3 in c:\\users\\maste\\appdata\\local\\programs\\python\\python39\\lib\\site-packages (from pandas>=0.23->seaborn) (2021.1)\n"
     ]
    }
   ],
   "source": [
    "!pip install pandas\n",
    "!pip install numpy\n",
    "!pip install sklearn\n",
    "!pip install matplotlib\n",
    "!pip install seaborn"
   ]
  },
  {
   "cell_type": "code",
   "execution_count": 2,
   "metadata": {},
   "outputs": [],
   "source": [
    "import pandas as pd\n",
    "import numpy as np\n",
    "\n",
    "from sklearn.model_selection import train_test_split\n",
    "from sklearn.neighbors import KNeighborsRegressor\n",
    "from sklearn import metrics as sm\n",
    "\n",
    "from math import sqrt\n",
    "\n",
    "import matplotlib.pyplot as plt\n",
    "import seaborn as sns\n",
    "%matplotlib inline\n",
    "pd.options.mode.chained_assignment = None"
   ]
  },
  {
   "cell_type": "code",
   "execution_count": 3,
   "metadata": {},
   "outputs": [
    {
     "data": {
      "text/html": [
       "<div>\n",
       "<style scoped>\n",
       "    .dataframe tbody tr th:only-of-type {\n",
       "        vertical-align: middle;\n",
       "    }\n",
       "\n",
       "    .dataframe tbody tr th {\n",
       "        vertical-align: top;\n",
       "    }\n",
       "\n",
       "    .dataframe thead th {\n",
       "        text-align: right;\n",
       "    }\n",
       "</style>\n",
       "<table border=\"1\" class=\"dataframe\">\n",
       "  <thead>\n",
       "    <tr style=\"text-align: right;\">\n",
       "      <th></th>\n",
       "      <th>title</th>\n",
       "      <th>text</th>\n",
       "      <th>subject</th>\n",
       "      <th>date</th>\n",
       "      <th>true</th>\n",
       "      <th>occuringText</th>\n",
       "      <th>occuringTitle</th>\n",
       "    </tr>\n",
       "  </thead>\n",
       "  <tbody>\n",
       "    <tr>\n",
       "      <th>0</th>\n",
       "      <td>As U.S. budget fight looms, Republicans flip t...</td>\n",
       "      <td>WASHINGTON (Reuters) - The head of a conservat...</td>\n",
       "      <td>politicsNews</td>\n",
       "      <td>December 31, 2017</td>\n",
       "      <td>1</td>\n",
       "      <td>&lt;built-in function empty&gt;</td>\n",
       "      <td>&lt;built-in function empty&gt;</td>\n",
       "    </tr>\n",
       "    <tr>\n",
       "      <th>1</th>\n",
       "      <td>U.S. military to accept transgender recruits o...</td>\n",
       "      <td>WASHINGTON (Reuters) - Transgender people will...</td>\n",
       "      <td>politicsNews</td>\n",
       "      <td>December 29, 2017</td>\n",
       "      <td>1</td>\n",
       "      <td>&lt;built-in function empty&gt;</td>\n",
       "      <td>&lt;built-in function empty&gt;</td>\n",
       "    </tr>\n",
       "    <tr>\n",
       "      <th>2</th>\n",
       "      <td>Senior U.S. Republican senator: 'Let Mr. Muell...</td>\n",
       "      <td>WASHINGTON (Reuters) - The special counsel inv...</td>\n",
       "      <td>politicsNews</td>\n",
       "      <td>December 31, 2017</td>\n",
       "      <td>1</td>\n",
       "      <td>&lt;built-in function empty&gt;</td>\n",
       "      <td>&lt;built-in function empty&gt;</td>\n",
       "    </tr>\n",
       "    <tr>\n",
       "      <th>3</th>\n",
       "      <td>FBI Russia probe helped by Australian diplomat...</td>\n",
       "      <td>WASHINGTON (Reuters) - Trump campaign adviser ...</td>\n",
       "      <td>politicsNews</td>\n",
       "      <td>December 30, 2017</td>\n",
       "      <td>1</td>\n",
       "      <td>&lt;built-in function empty&gt;</td>\n",
       "      <td>&lt;built-in function empty&gt;</td>\n",
       "    </tr>\n",
       "    <tr>\n",
       "      <th>4</th>\n",
       "      <td>Trump wants Postal Service to charge 'much mor...</td>\n",
       "      <td>SEATTLE/WASHINGTON (Reuters) - President Donal...</td>\n",
       "      <td>politicsNews</td>\n",
       "      <td>December 29, 2017</td>\n",
       "      <td>1</td>\n",
       "      <td>&lt;built-in function empty&gt;</td>\n",
       "      <td>&lt;built-in function empty&gt;</td>\n",
       "    </tr>\n",
       "    <tr>\n",
       "      <th>5</th>\n",
       "      <td>White House, Congress prepare for talks on spe...</td>\n",
       "      <td>WEST PALM BEACH, Fla./WASHINGTON (Reuters) - T...</td>\n",
       "      <td>politicsNews</td>\n",
       "      <td>December 29, 2017</td>\n",
       "      <td>1</td>\n",
       "      <td>&lt;built-in function empty&gt;</td>\n",
       "      <td>&lt;built-in function empty&gt;</td>\n",
       "    </tr>\n",
       "    <tr>\n",
       "      <th>6</th>\n",
       "      <td>Trump says Russia probe will be fair, but time...</td>\n",
       "      <td>WEST PALM BEACH, Fla (Reuters) - President Don...</td>\n",
       "      <td>politicsNews</td>\n",
       "      <td>December 29, 2017</td>\n",
       "      <td>1</td>\n",
       "      <td>&lt;built-in function empty&gt;</td>\n",
       "      <td>&lt;built-in function empty&gt;</td>\n",
       "    </tr>\n",
       "    <tr>\n",
       "      <th>7</th>\n",
       "      <td>Factbox: Trump on Twitter (Dec 29) - Approval ...</td>\n",
       "      <td>The following statements were posted to the ve...</td>\n",
       "      <td>politicsNews</td>\n",
       "      <td>December 29, 2017</td>\n",
       "      <td>1</td>\n",
       "      <td>&lt;built-in function empty&gt;</td>\n",
       "      <td>&lt;built-in function empty&gt;</td>\n",
       "    </tr>\n",
       "    <tr>\n",
       "      <th>8</th>\n",
       "      <td>Trump on Twitter (Dec 28) - Global Warming</td>\n",
       "      <td>The following statements were posted to the ve...</td>\n",
       "      <td>politicsNews</td>\n",
       "      <td>December 29, 2017</td>\n",
       "      <td>1</td>\n",
       "      <td>&lt;built-in function empty&gt;</td>\n",
       "      <td>&lt;built-in function empty&gt;</td>\n",
       "    </tr>\n",
       "    <tr>\n",
       "      <th>9</th>\n",
       "      <td>Alabama official to certify Senator-elect Jone...</td>\n",
       "      <td>WASHINGTON (Reuters) - Alabama Secretary of St...</td>\n",
       "      <td>politicsNews</td>\n",
       "      <td>December 28, 2017</td>\n",
       "      <td>1</td>\n",
       "      <td>&lt;built-in function empty&gt;</td>\n",
       "      <td>&lt;built-in function empty&gt;</td>\n",
       "    </tr>\n",
       "  </tbody>\n",
       "</table>\n",
       "</div>"
      ],
      "text/plain": [
       "                                               title  \\\n",
       "0  As U.S. budget fight looms, Republicans flip t...   \n",
       "1  U.S. military to accept transgender recruits o...   \n",
       "2  Senior U.S. Republican senator: 'Let Mr. Muell...   \n",
       "3  FBI Russia probe helped by Australian diplomat...   \n",
       "4  Trump wants Postal Service to charge 'much mor...   \n",
       "5  White House, Congress prepare for talks on spe...   \n",
       "6  Trump says Russia probe will be fair, but time...   \n",
       "7  Factbox: Trump on Twitter (Dec 29) - Approval ...   \n",
       "8         Trump on Twitter (Dec 28) - Global Warming   \n",
       "9  Alabama official to certify Senator-elect Jone...   \n",
       "\n",
       "                                                text       subject  \\\n",
       "0  WASHINGTON (Reuters) - The head of a conservat...  politicsNews   \n",
       "1  WASHINGTON (Reuters) - Transgender people will...  politicsNews   \n",
       "2  WASHINGTON (Reuters) - The special counsel inv...  politicsNews   \n",
       "3  WASHINGTON (Reuters) - Trump campaign adviser ...  politicsNews   \n",
       "4  SEATTLE/WASHINGTON (Reuters) - President Donal...  politicsNews   \n",
       "5  WEST PALM BEACH, Fla./WASHINGTON (Reuters) - T...  politicsNews   \n",
       "6  WEST PALM BEACH, Fla (Reuters) - President Don...  politicsNews   \n",
       "7  The following statements were posted to the ve...  politicsNews   \n",
       "8  The following statements were posted to the ve...  politicsNews   \n",
       "9  WASHINGTON (Reuters) - Alabama Secretary of St...  politicsNews   \n",
       "\n",
       "                 date  true               occuringText  \\\n",
       "0  December 31, 2017      1  <built-in function empty>   \n",
       "1  December 29, 2017      1  <built-in function empty>   \n",
       "2  December 31, 2017      1  <built-in function empty>   \n",
       "3  December 30, 2017      1  <built-in function empty>   \n",
       "4  December 29, 2017      1  <built-in function empty>   \n",
       "5  December 29, 2017      1  <built-in function empty>   \n",
       "6  December 29, 2017      1  <built-in function empty>   \n",
       "7  December 29, 2017      1  <built-in function empty>   \n",
       "8  December 29, 2017      1  <built-in function empty>   \n",
       "9  December 28, 2017      1  <built-in function empty>   \n",
       "\n",
       "               occuringTitle  \n",
       "0  <built-in function empty>  \n",
       "1  <built-in function empty>  \n",
       "2  <built-in function empty>  \n",
       "3  <built-in function empty>  \n",
       "4  <built-in function empty>  \n",
       "5  <built-in function empty>  \n",
       "6  <built-in function empty>  \n",
       "7  <built-in function empty>  \n",
       "8  <built-in function empty>  \n",
       "9  <built-in function empty>  "
      ]
     },
     "execution_count": 3,
     "metadata": {},
     "output_type": "execute_result"
    }
   ],
   "source": [
    "# load data and add data about true/fake news. also make column ready for data insertion later\n",
    "truenews = pd.read_csv(\"True.csv\")\n",
    "truenews['true'] = 1\n",
    "fakenews = pd.read_csv(\"Fake.csv\")\n",
    "fakenews['true'] = 0\n",
    "news = truenews.append(fakenews,ignore_index=True)\n",
    "news[\"occuringText\"] = np.empty\n",
    "news[\"occuringTitle\"] = np.empty\n",
    "news.head(10)\n"
   ]
  },
  {
   "cell_type": "code",
   "execution_count": 4,
   "metadata": {},
   "outputs": [
    {
     "data": {
      "text/html": [
       "<div>\n",
       "<style scoped>\n",
       "    .dataframe tbody tr th:only-of-type {\n",
       "        vertical-align: middle;\n",
       "    }\n",
       "\n",
       "    .dataframe tbody tr th {\n",
       "        vertical-align: top;\n",
       "    }\n",
       "\n",
       "    .dataframe thead th {\n",
       "        text-align: right;\n",
       "    }\n",
       "</style>\n",
       "<table border=\"1\" class=\"dataframe\">\n",
       "  <thead>\n",
       "    <tr style=\"text-align: right;\">\n",
       "      <th></th>\n",
       "      <th>true</th>\n",
       "    </tr>\n",
       "    <tr>\n",
       "      <th>subject</th>\n",
       "      <th></th>\n",
       "    </tr>\n",
       "  </thead>\n",
       "  <tbody>\n",
       "    <tr>\n",
       "      <th>Government News</th>\n",
       "      <td>0</td>\n",
       "    </tr>\n",
       "    <tr>\n",
       "      <th>Middle-east</th>\n",
       "      <td>0</td>\n",
       "    </tr>\n",
       "    <tr>\n",
       "      <th>News</th>\n",
       "      <td>0</td>\n",
       "    </tr>\n",
       "    <tr>\n",
       "      <th>US_News</th>\n",
       "      <td>0</td>\n",
       "    </tr>\n",
       "    <tr>\n",
       "      <th>left-news</th>\n",
       "      <td>0</td>\n",
       "    </tr>\n",
       "    <tr>\n",
       "      <th>politics</th>\n",
       "      <td>0</td>\n",
       "    </tr>\n",
       "    <tr>\n",
       "      <th>politicsNews</th>\n",
       "      <td>1</td>\n",
       "    </tr>\n",
       "    <tr>\n",
       "      <th>worldnews</th>\n",
       "      <td>1</td>\n",
       "    </tr>\n",
       "  </tbody>\n",
       "</table>\n",
       "</div>"
      ],
      "text/plain": [
       "                 true\n",
       "subject              \n",
       "Government News     0\n",
       "Middle-east         0\n",
       "News                0\n",
       "US_News             0\n",
       "left-news           0\n",
       "politics            0\n",
       "politicsNews        1\n",
       "worldnews           1"
      ]
     },
     "execution_count": 4,
     "metadata": {},
     "output_type": "execute_result"
    }
   ],
   "source": [
    "subjectNews= news.groupby('subject').mean()\n",
    "subjectNews"
   ]
  },
  {
   "cell_type": "code",
   "execution_count": 5,
   "metadata": {},
   "outputs": [
    {
     "data": {
      "text/plain": [
       "<AxesSubplot:xlabel='subject'>"
      ]
     },
     "execution_count": 5,
     "metadata": {},
     "output_type": "execute_result"
    },
    {
     "data": {
      "image/png": "[encoded data removed]",
      "text/plain": [
       "<Figure size 432x288 with 1 Axes>"
      ]
     },
     "metadata": {
      "needs_background": "light"
     },
     "output_type": "display_data"
    }
   ],
   "source": [
    "# which subject is true news mostly\n",
    "subjectNews['true'].plot.bar()"
   ]
  },
  {
   "cell_type": "code",
   "execution_count": 6,
   "metadata": {},
   "outputs": [],
   "source": [
    "# update data with most occurring words in text\n",
    "for ind in news.index:\n",
    "    # Python program to find the k most frequent words\n",
    "    # from data set\n",
    "    from collections import Counter\n",
    "  \n",
    "    # split() returns list of all the words in the string\n",
    "    split_it = news[\"text\"][ind].split()\n",
    "  \n",
    "    # Pass the split_it list to instance of Counter class.\n",
    "    Counter = Counter(split_it)\n",
    "  \n",
    "    # most_common() produces k frequently encountered\n",
    "    # input values and their respective counts.\n",
    "    most_occur = Counter.most_common(50)\n",
    "    news['occuringText'][ind] = most_occur"
   ]
  },
  {
   "cell_type": "code",
   "execution_count": 7,
   "metadata": {},
   "outputs": [],
   "source": [
    "# update data with most occurring words in title\n",
    "for ind in news.index:\n",
    "    # Python program to find the k most frequent words\n",
    "    # from data set\n",
    "    from collections import Counter\n",
    "  \n",
    "    # split() returns list of all the words in the string\n",
    "    split_it = news[\"title\"][ind].split()\n",
    "  \n",
    "    # Pass the split_it list to instance of Counter class.\n",
    "    Counter = Counter(split_it)\n",
    "  \n",
    "    # most_common() produces k frequently encountered\n",
    "    # input values and their respective counts.\n",
    "    most_occur = Counter.most_common(50)\n",
    "    news['occuringTitle'][ind] = most_occur"
   ]
  },
  {
   "cell_type": "code",
   "execution_count": 8,
   "metadata": {},
   "outputs": [],
   "source": [
    "# calculate total\n",
    "dictionaryTrue = {}\n",
    "dictionaryFalse = {}\n",
    "\n",
    "for ind in news.index:\n",
    "    wordCountList = news['occuringText'][ind]\n",
    "    isTrue = news['true'][ind]\n",
    "    for counterObject in wordCountList:\n",
    "        word = counterObject[0]\n",
    "        counter = counterObject[1]\n",
    "        if isTrue == 1:         \n",
    "            if word in dictionaryTrue:\n",
    "                oldValue = dictionaryTrue[word]\n",
    "                dictionaryTrue[word] = counter + oldValue\n",
    "            else:\n",
    "                dictionaryTrue[word] = counter\n",
    "        else:\n",
    "                        \n",
    "            if word in dictionaryFalse:\n",
    "                oldValue = dictionaryFalse[word]\n",
    "                dictionaryFalse[word] = counter + oldValue\n",
    "            else:\n",
    "                dictionaryFalse[word] = counter\n",
    "                \n"
   ]
  },
  {
   "cell_type": "code",
   "execution_count": 9,
   "metadata": {},
   "outputs": [],
   "source": [
    "# calculate total\n",
    "dictionaryTrueTitle = {}\n",
    "dictionaryFalseTitle = {}\n",
    "\n",
    "for ind in news.index:\n",
    "    wordCountList = news['occuringTitle'][ind]\n",
    "    isTrue = news['true'][ind]\n",
    "    for counterObject in wordCountList:\n",
    "        word = counterObject[0]\n",
    "        counter = counterObject[1]\n",
    "        if isTrue == 1:         \n",
    "            if word in dictionaryTrueTitle:\n",
    "                oldValue = dictionaryTrueTitle[word]\n",
    "                dictionaryTrueTitle[word] = counter + oldValue\n",
    "            else:\n",
    "                dictionaryTrueTitle[word] = counter\n",
    "        else:\n",
    "                        \n",
    "            if word in dictionaryFalseTitle:\n",
    "                oldValue = dictionaryFalseTitle[word]\n",
    "                dictionaryFalseTitle[word] = counter + oldValue\n",
    "            else:\n",
    "                dictionaryFalseTitle[word] = counter\n",
    "                \n"
   ]
  },
  {
   "cell_type": "code",
   "execution_count": 10,
   "metadata": {},
   "outputs": [],
   "source": [
    "# calculate mean for text\n",
    "for key in dictionaryTrue:\n",
    "    count = dictionaryTrue[key]\n",
    "    mean = count / len(truenews) + 1\n",
    "    dictionaryTrue[key] = mean\n",
    "\n",
    "for key in dictionaryFalse:\n",
    "    count = dictionaryFalse[key]\n",
    "    mean = count / len(fakenews) + 1\n",
    "    dictionaryFalse[key] = mean"
   ]
  },
  {
   "cell_type": "code",
   "execution_count": 11,
   "metadata": {},
   "outputs": [],
   "source": [
    "# calculate mean for title\n",
    "for key in dictionaryTrueTitle:\n",
    "    count = dictionaryTrueTitle[key]\n",
    "    mean = count / len(truenews) + 1\n",
    "    dictionaryTrueTitle[key] = mean\n",
    "\n",
    "for key in dictionaryFalseTitle:\n",
    "    count = dictionaryFalseTitle[key]\n",
    "    mean = count / len(fakenews) + 1\n",
    "    dictionaryFalseTitle[key] = mean"
   ]
  },
  {
   "cell_type": "code",
   "execution_count": 12,
   "metadata": {},
   "outputs": [],
   "source": [
    "# sort dictionaries\n",
    "sortedTrue = sorted(dictionaryTrue.items(), key=lambda x: x[1],reverse=True)[:100]\n",
    "sortedFalse = sorted(dictionaryFalse.items(), key=lambda x: x[1],reverse=True)[:100]\n",
    "\n",
    "sortedTrueKeys = []\n",
    "sortedTrueValues = []\n",
    "for x in sortedTrue:\n",
    "    sortedTrueKeys.append(x[0])\n",
    "    sortedTrueValues.append(x[1])\n",
    "    \n",
    "sortedFalseKeys = []\n",
    "sortedFalseValues = []\n",
    "for k in sortedFalse:\n",
    "    sortedFalseKeys.append(k[0])\n",
    "    sortedFalseValues.append(k[1])\n",
    "    "
   ]
  },
  {
   "cell_type": "code",
   "execution_count": 13,
   "metadata": {},
   "outputs": [],
   "source": [
    "# sort dictionaries\n",
    "sortedTrueTitle = sorted(dictionaryTrueTitle.items(), key=lambda x: x[1],reverse=True)[:100]\n",
    "sortedFalseTitle = sorted(dictionaryFalseTitle.items(), key=lambda x: x[1],reverse=True)[:100]\n",
    "\n",
    "sortedTrueKeysTitle = []\n",
    "sortedTrueValuesTitle = []\n",
    "for x in sortedTrueTitle:\n",
    "    sortedTrueKeysTitle.append(x[0])\n",
    "    sortedTrueValuesTitle.append(x[1])\n",
    "    \n",
    "sortedFalseKeysTitle = []\n",
    "sortedFalseValuesTitle = []\n",
    "for k in sortedFalseTitle:\n",
    "    sortedFalseKeysTitle.append(k[0])\n",
    "    sortedFalseValuesTitle.append(k[1])\n",
    "    "
   ]
  },
  {
   "cell_type": "code",
   "execution_count": 19,
   "metadata": {},
   "outputs": [],
   "source": [
    "# amount to show in plot\n",
    "start = 0\n",
    "amountToShow = 30\n"
   ]
  },
  {
   "cell_type": "code",
   "execution_count": 20,
   "metadata": {},
   "outputs": [
    {
     "data": {
      "text/plain": [
       "<Figure size 432x288 with 0 Axes>"
      ]
     },
     "metadata": {},
     "output_type": "display_data"
    },
    {
     "data": {
      "image/png": "[encoded data removed]",
      "text/plain": [
       "<Figure size 1296x360 with 1 Axes>"
      ]
     },
     "metadata": {
      "needs_background": "light"
     },
     "output_type": "display_data"
    },
    {
     "data": {
      "text/plain": [
       "<Figure size 432x288 with 0 Axes>"
      ]
     },
     "metadata": {},
     "output_type": "display_data"
    }
   ],
   "source": [
    "# true news text\n",
    "plt.figure()\n",
    "f, ax = plt.subplots(figsize=(18,5)) # set the size that you'd like (width, height)\n",
    "plt.bar(sortedTrueKeys[start:amountToShow], sortedTrueValues[start:amountToShow])\n",
    "plt.show()\n",
    "plt.clf()"
   ]
  },
  {
   "cell_type": "code",
   "execution_count": 21,
   "metadata": {},
   "outputs": [
    {
     "data": {
      "text/plain": [
       "<Figure size 432x288 with 0 Axes>"
      ]
     },
     "metadata": {},
     "output_type": "display_data"
    },
    {
     "data": {
      "image/png": "[encoded data removed]",
      "text/plain": [
       "<Figure size 1296x360 with 1 Axes>"
      ]
     },
     "metadata": {
      "needs_background": "light"
     },
     "output_type": "display_data"
    },
    {
     "data": {
      "text/plain": [
       "<Figure size 432x288 with 0 Axes>"
      ]
     },
     "metadata": {},
     "output_type": "display_data"
    }
   ],
   "source": [
    "#fake news text\n",
    "plt.figure()\n",
    "f, ax = plt.subplots(figsize=(18,5)) # set the size that you'd like (width, height)\n",
    "plt.bar(sortedFalseKeys[start:amountToShow], sortedFalseValues[start:amountToShow])\n",
    "plt.show()\n",
    "plt.clf()"
   ]
  },
  {
   "cell_type": "code",
   "execution_count": 22,
   "metadata": {},
   "outputs": [
    {
     "data": {
      "text/plain": [
       "<Figure size 432x288 with 0 Axes>"
      ]
     },
     "metadata": {},
     "output_type": "display_data"
    },
    {
     "data": {
      "image/png": "[encoded data removed]",
      "text/plain": [
       "<Figure size 1296x360 with 1 Axes>"
      ]
     },
     "metadata": {
      "needs_background": "light"
     },
     "output_type": "display_data"
    },
    {
     "data": {
      "text/plain": [
       "<Figure size 432x288 with 0 Axes>"
      ]
     },
     "metadata": {},
     "output_type": "display_data"
    }
   ],
   "source": [
    "## true news title\n",
    "\n",
    "plt.figure()\n",
    "f, ax = plt.subplots(figsize=(18,5)) # set the size that you'd like (width, height)\n",
    "plt.bar(sortedTrueKeysTitle[start:amountToShow], sortedTrueValuesTitle[start:amountToShow])\n",
    "plt.show()\n",
    "plt.clf()"
   ]
  },
  {
   "cell_type": "code",
   "execution_count": 23,
   "metadata": {},
   "outputs": [
    {
     "data": {
      "text/plain": [
       "<Figure size 432x288 with 0 Axes>"
      ]
     },
     "metadata": {},
     "output_type": "display_data"
    },
    {
     "data": {
      "image/png": "[encoded data removed]",
      "text/plain": [
       "<Figure size 1296x360 with 1 Axes>"
      ]
     },
     "metadata": {
      "needs_background": "light"
     },
     "output_type": "display_data"
    },
    {
     "data": {
      "text/plain": [
       "<Figure size 432x288 with 0 Axes>"
      ]
     },
     "metadata": {},
     "output_type": "display_data"
    }
   ],
   "source": [
    "## fake news title\n",
    "plt.figure()\n",
    "f, ax = plt.subplots(figsize=(18,5)) # set the size that you'd like (width, height)\n",
    "plt.bar(sortedFalseKeysTitle[start:amountToShow], sortedFalseValuesTitle[start:amountToShow])\n",
    "plt.show()\n",
    "plt.clf()"
   ]
  },
  {
   "cell_type": "code",
   "execution_count": 40,
   "metadata": {},
   "outputs": [],
   "source": [
    "## collect all words\n",
    "# Python code to convert dictionary into list of tuples\n",
    "  \n",
    "# Initialization of dictionary\n",
    "  \n",
    "# Converting into list of\n",
    "combined = []\n",
    "combined.append(dictionaryTrue)\n",
    "combined.append(dictionaryFalse)\n",
    "# make word list\n",
    "wordlist = list(dictionaryTrue.keys()) + list(dictionaryFalse.keys())"
   ]
  },
  {
   "cell_type": "code",
   "execution_count": 44,
   "metadata": {},
   "outputs": [],
   "source": [
    "df = pd.DataFrame(combined,columns = ['word','mean']) "
   ]
  },
  {
   "cell_type": "code",
   "execution_count": 49,
   "metadata": {},
   "outputs": [
    {
     "data": {
      "text/plain": [
       "<bound method NDFrame.head of        word      mean\n",
       "0  1.001588  1.001214\n",
       "1  1.009071  1.007027>"
      ]
     },
     "execution_count": 49,
     "metadata": {},
     "output_type": "execute_result"
    }
   ],
   "source": []
  },
  {
   "cell_type": "code",
   "execution_count": null,
   "metadata": {},
   "outputs": [],
   "source": []
  }
 ],
 "metadata": {
  "kernelspec": {
   "display_name": "Python 3",
   "language": "python",
   "name": "python3"
  },
  "language_info": {
   "codemirror_mode": {
    "name": "ipython",
    "version": 3
   },
   "file_extension": ".py",
   "mimetype": "text/x-python",
   "name": "python",
   "nbconvert_exporter": "python",
   "pygments_lexer": "ipython3",
   "version": "3.9.0"
  }
 },
 "nbformat": 4,
 "nbformat_minor": 4
}
